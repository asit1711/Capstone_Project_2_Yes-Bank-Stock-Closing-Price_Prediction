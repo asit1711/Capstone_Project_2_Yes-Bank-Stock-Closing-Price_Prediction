{
  "nbformat": 4,
  "nbformat_minor": 0,
  "metadata": {
    "colab": {
      "private_outputs": true,
      "provenance": [],
      "collapsed_sections": [
        "vncDsAP0Gaoa",
        "FJNUwmbgGyua",
        "w6K7xa23Elo4",
        "yQaldy8SH6Dl",
        "mDgbUHAGgjLW",
        "O_i_v8NEhb9l",
        "HhfV-JJviCcP",
        "Y3lxredqlCYt",
        "3RnN4peoiCZX",
        "x71ZqKXriCWQ",
        "7hBIi_osiCS2",
        "JlHwYmJAmNHm",
        "35m5QtbWiB9F",
        "PoPl-ycgm1ru",
        "H0kj-8xxnORC",
        "nA9Y7ga8ng1Z",
        "PBTbrJXOngz2",
        "u3PMJOP6ngxN",
        "dauF4eBmngu3",
        "bKJF3rekwFvQ",
        "MSa1f5Uengrz",
        "GF8Ens_Soomf",
        "0wOQAZs5pc--",
        "K5QZ13OEpz2H",
        "lQ7QKXXCp7Bj",
        "448CDAPjqfQr",
        "KSlN3yHqYklG",
        "t6dVpIINYklI",
        "ijmpgYnKYklI",
        "-JiQyfWJYklI",
        "EM7whBJCYoAo",
        "fge-S5ZAYoAp",
        "85gYPyotYoAp",
        "RoGjAbkUYoAp",
        "4Of9eVA-YrdM",
        "iky9q4vBYrdO",
        "F6T5p64dYrdO",
        "y-Ehk30pYrdP",
        "bamQiAODYuh1",
        "QHF8YVU7Yuh3",
        "GwzvFGzlYuh3",
        "qYpmQ266Yuh3",
        "OH-pJp9IphqM",
        "bbFf2-_FphqN",
        "_ouA3fa0phqN",
        "Seke61FWphqN",
        "PIIx-8_IphqN",
        "t27r6nlMphqO",
        "r2jJGEOYphqO",
        "b0JNsNcRphqO",
        "BZR9WyysphqO",
        "jj7wYXLtphqO",
        "eZrbJ2SmphqO",
        "rFu4xreNphqO",
        "YJ55k-q6phqO",
        "gCFgpxoyphqP",
        "OVtJsKN_phqQ",
        "lssrdh5qphqQ",
        "U2RJ9gkRphqQ",
        "1M8mcRywphqQ",
        "tgIPom80phqQ",
        "JMzcOPDDphqR",
        "x-EpHcCOp1ci",
        "X_VqEhTip1ck",
        "8zGJKyg5p1ck",
        "PVzmfK_Ep1ck",
        "n3dbpmDWp1ck",
        "ylSl6qgtp1ck",
        "ZWILFDl5p1ck",
        "M7G43BXep1ck",
        "Ag9LCva-p1cl",
        "E6MkPsBcp1cl",
        "2cELzS2fp1cl",
        "3MPXvC8up1cl",
        "NC_X3p0fY2L0",
        "UV0SzAkaZNRQ",
        "YPEH6qLeZNRQ",
        "q29F0dvdveiT",
        "EXh0U9oCveiU",
        "22aHeOlLveiV",
        "g-ATYxFrGrvw",
        "Yfr_Vlr8HBkt",
        "8yEUt7NnHlrM",
        "tEA2Xm5dHt1r",
        "I79__PHVH19G",
        "Ou-I18pAyIpj",
        "fF3858GYyt-u",
        "4_0_7-oCpUZd",
        "hwyV_J3ipUZe",
        "3yB-zSqbpUZe",
        "dEUvejAfpUZe",
        "Fd15vwWVpUZf",
        "bn_IUdTipZyH",
        "49K5P_iCpZyH",
        "Nff-vKELpZyI",
        "kLW572S8pZyI",
        "dWbDXHzopZyI",
        "yLjJCtPM0KBk",
        "xiyOF9F70UgQ",
        "7wuGOrhz0itI",
        "id1riN9m0vUs",
        "578E2V7j08f6",
        "89xtkJwZ18nB",
        "67NQN5KX2AMe",
        "Iwf50b-R2tYG",
        "GMQiZwjn3iu7",
        "WVIkgGqN3qsr",
        "XkPnILGE3zoT",
        "Hlsf0x5436Go",
        "mT9DMSJo4nBL",
        "c49ITxTc407N",
        "OeJFEK0N496M",
        "9ExmJH0g5HBk",
        "cJNqERVU536h",
        "k5UmGsbsOxih",
        "T0VqWOYE6DLQ",
        "qBMux9mC6MCf",
        "-oLEiFgy-5Pf",
        "C74aWNz2AliB",
        "2DejudWSA-a0",
        "pEMng2IbBLp7",
        "rAdphbQ9Bhjc",
        "TNVZ9zx19K6k",
        "nqoHp30x9hH9",
        "rMDnDkt2B6du",
        "yiiVWRdJDDil",
        "1UUpS68QDMuG",
        "kexQrXU-DjzY",
        "T5CmagL3EC8N",
        "BhH2vgX9EjGr",
        "qjKvONjwE8ra",
        "P1XJ9OREExlT",
        "VFOzZv6IFROw",
        "TIqpNgepFxVj",
        "VfCC591jGiD4",
        "OB4l2ZhMeS1U",
        "ArJBuiUVfxKd",
        "4qY1EAkEfxKe",
        "PiV4Ypx8fxKe",
        "TfvqoZmBfxKf",
        "dJ2tPlVmpsJ0",
        "JWYfwnehpsJ1",
        "-jK_YjpMpsJ2",
        "HAih1iBOpsJ2",
        "zVGeBEFhpsJ2",
        "bmKjuQ-FpsJ3",
        "Fze-IPXLpx6K",
        "7AN1z2sKpx6M",
        "9PIHJqyupx6M",
        "_-qAgymDpx6N",
        "Z-hykwinpx6N",
        "h_CCil-SKHpo",
        "cBFFvTBNJzUa",
        "HvGl1hHyA_VK",
        "EyNgTHvd2WFk",
        "KH5McJBi2d8v",
        "iW_Lq9qf2h6X",
        "-Kee-DAl2viO",
        "gCX9965dhzqZ",
        "gIfDvo9L0UH2"
      ],
      "include_colab_link": true
    },
    "kernelspec": {
      "name": "python3",
      "display_name": "Python 3"
    },
    "language_info": {
      "name": "python"
    }
  },
  "cells": [
    {
      "cell_type": "markdown",
      "metadata": {
        "id": "view-in-github",
        "colab_type": "text"
      },
      "source": [
        "<a href=\"https://colab.research.google.com/github/asit1711/Capstone_Project_2_Yes-Bank-Stock-Closing-Price_Prediction/blob/main/Asit_ML_Submission_%7C_Regression.ipynb\" target=\"_parent\"><img src=\"https://colab.research.google.com/assets/colab-badge.svg\" alt=\"Open In Colab\"/></a>"
      ]
    },
    {
      "cell_type": "markdown",
      "source": [
        "# **Project Name**    - \n",
        "\n"
      ],
      "metadata": {
        "id": "vncDsAP0Gaoa"
      }
    },
    {
      "cell_type": "markdown",
      "source": [
        "##### **Project Type**    - Regression\n",
        "##### **Contribution**    - Individual\n",
        "##### **Name  - Asit Waghmare**\n"
      ],
      "metadata": {
        "id": "beRrZCGUAJYm"
      }
    },
    {
      "cell_type": "markdown",
      "source": [
        "# **Project Summary -**"
      ],
      "metadata": {
        "id": "FJNUwmbgGyua"
      }
    },
    {
      "cell_type": "markdown",
      "source": [
        "Write the summary here within 500-600 words."
      ],
      "metadata": {
        "id": "F6v_1wHtG2nS"
      }
    },
    {
      "cell_type": "markdown",
      "source": [
        "# **GitHub Link -**"
      ],
      "metadata": {
        "id": "w6K7xa23Elo4"
      }
    },
    {
      "cell_type": "markdown",
      "source": [
        "https://github.com/asit1711/Capstone_Project_2_Yes-Bank-Stock-Closing-Price_Prediction"
      ],
      "metadata": {
        "id": "h1o69JH3Eqqn"
      }
    },
    {
      "cell_type": "markdown",
      "source": [
        "# **Problem Statement**\n"
      ],
      "metadata": {
        "id": "yQaldy8SH6Dl"
      }
    },
    {
      "cell_type": "markdown",
      "source": [
        "**Yes Bank is a well-known bank in the Indian financial domain. Since 2018, it has been in the news because of the fraud case involving Rana Kapoor. Owing to this fact, it was interesting to see how that impacted the stock prices of the company and whether Time series models or any other predictive models can do justice to such situations. This dataset has monthly stock prices of the bank since its inception and includes closing, starting, highest, and lowest stock prices of every month. The main objective is to predict the stock's closing price of the month.**"
      ],
      "metadata": {
        "id": "DpeJGUA3kjGy"
      }
    },
    {
      "cell_type": "markdown",
      "source": [
        "# **General Guidelines** : -  "
      ],
      "metadata": {
        "id": "mDgbUHAGgjLW"
      }
    },
    {
      "cell_type": "markdown",
      "source": [
        "1.   Well-structured, formatted, and commented code is required. \n",
        "2.   Exception Handling, Production Grade Code & Deployment Ready Code will be a plus. Those students will be awarded some additional credits. \n",
        "     \n",
        "     The additional credits will have advantages over other students during Star Student selection.\n",
        "       \n",
        "             [ Note: - Deployment Ready Code is defined as, the whole .ipynb notebook should be executable in one go\n",
        "                       without a single error logged. ]\n",
        "\n",
        "3.   Each and every logic should have proper comments.\n",
        "4. You may add as many number of charts you want. Make Sure for each and every chart the following format should be answered.\n",
        "        \n",
        "\n",
        "```\n",
        "# Chart visualization code\n",
        "```\n",
        "            \n",
        "\n",
        "*   Why did you pick the specific chart?\n",
        "*   What is/are the insight(s) found from the chart?\n",
        "* Will the gained insights help creating a positive business impact? \n",
        "Are there any insights that lead to negative growth? Justify with specific reason.\n",
        "\n",
        "5. You have to create at least 15 logical & meaningful charts having important insights.\n",
        "\n",
        "\n",
        "[ Hints : - Do the Vizualization in  a structured way while following \"UBM\" Rule. \n",
        "\n",
        "U - Univariate Analysis,\n",
        "\n",
        "B - Bivariate Analysis (Numerical - Categorical, Numerical - Numerical, Categorical - Categorical)\n",
        "\n",
        "M - Multivariate Analysis\n",
        " ]\n",
        "\n",
        "\n",
        "\n",
        "\n",
        "\n",
        "6. You may add more ml algorithms for model creation. Make sure for each and every algorithm, the following format should be answered.\n",
        "\n",
        "\n",
        "*   Explain the ML Model used and it's performance using Evaluation metric Score Chart.\n",
        "\n",
        "\n",
        "*   Cross- Validation & Hyperparameter Tuning\n",
        "\n",
        "*   Have you seen any improvement? Note down the improvement with updates Evaluation metric Score Chart.\n",
        "\n",
        "*   Explain each evaluation metric's indication towards business and the business impact pf the ML model used.\n",
        "\n",
        "\n",
        "\n",
        "\n",
        "\n",
        "\n",
        "\n",
        "\n",
        "\n",
        "\n",
        "\n",
        "\n",
        "\n",
        "\n",
        "\n",
        "\n",
        "\n",
        "\n"
      ],
      "metadata": {
        "id": "ZrxVaUj-hHfC"
      }
    },
    {
      "cell_type": "markdown",
      "source": [
        "# ***Let's Begin !***"
      ],
      "metadata": {
        "id": "O_i_v8NEhb9l"
      }
    },
    {
      "cell_type": "markdown",
      "source": [
        "## ***1. Know Your Data***"
      ],
      "metadata": {
        "id": "HhfV-JJviCcP"
      }
    },
    {
      "cell_type": "markdown",
      "source": [
        "### Import Libraries"
      ],
      "metadata": {
        "id": "Y3lxredqlCYt"
      }
    },
    {
      "cell_type": "code",
      "source": [
        "#Importing all the libarary\n",
        "\n",
        "import numpy as np\n",
        "import pandas as pd\n",
        "from numpy import math\n",
        "from datetime import datetime\n",
        "\n",
        "#Importing libraries for Data Visulization\n",
        "import seaborn as sns\n",
        "import matplotlib.pyplot as plt\n",
        "%matplotlib inline\n",
        "import plotly.express as px\n",
        "\n",
        "#Importing Machine Learning libraries\n",
        "from sklearn.preprocessing import MinMaxScaler\n",
        "from sklearn.model_selection import train_test_split\n",
        "from sklearn import model_selection\n",
        "from sklearn.model_selection import KFold\n",
        "from sklearn.metrics import r2_score\n",
        "from sklearn.metrics import mean_squared_error\n",
        "from sklearn.metrics import mean_absolute_error\n",
        "from sklearn.metrics import mean_absolute_percentage_error\n",
        "from statsmodels.stats.outliers_influence import variance_inflation_factor\n",
        "import statsmodels.api as sm\n",
        "import statsmodels.formula.api as smf\n",
        "import warnings\n",
        "warnings.filterwarnings('ignore')"
      ],
      "metadata": {
        "id": "M8Vqi-pPk-HR"
      },
      "execution_count": null,
      "outputs": []
    },
    {
      "cell_type": "code",
      "source": [
        "from google.colab import drive\n",
        "drive.mount('/content/drive')"
      ],
      "metadata": {
        "id": "6ZWmgw-T4NJi"
      },
      "execution_count": null,
      "outputs": []
    },
    {
      "cell_type": "markdown",
      "source": [
        "### Dataset Loading"
      ],
      "metadata": {
        "id": "3RnN4peoiCZX"
      }
    },
    {
      "cell_type": "code",
      "source": [
        "# Load Dataset\n",
        "df = pd.read_csv(\"/content/drive/MyDrive/data_YesBank_StockPrices.csv\")"
      ],
      "metadata": {
        "id": "4CkvbW_SlZ_R"
      },
      "execution_count": null,
      "outputs": []
    },
    {
      "cell_type": "markdown",
      "source": [
        "### Dataset First View"
      ],
      "metadata": {
        "id": "x71ZqKXriCWQ"
      }
    },
    {
      "cell_type": "code",
      "source": [
        "# Dataset First Look\n",
        "df.head()"
      ],
      "metadata": {
        "id": "LWNFOSvLl09H"
      },
      "execution_count": null,
      "outputs": []
    },
    {
      "cell_type": "markdown",
      "source": [
        "### Dataset Rows & Columns count"
      ],
      "metadata": {
        "id": "7hBIi_osiCS2"
      }
    },
    {
      "cell_type": "code",
      "source": [
        "# Dataset Rows & Columns count\n",
        "rows, cols = df.shape\n",
        "print(\"dataset_rows\",rows)\n",
        "print(\"dataset_columns\",cols)"
      ],
      "metadata": {
        "id": "Kllu7SJgmLij"
      },
      "execution_count": null,
      "outputs": []
    },
    {
      "cell_type": "markdown",
      "source": [
        "### Dataset Information"
      ],
      "metadata": {
        "id": "JlHwYmJAmNHm"
      }
    },
    {
      "cell_type": "code",
      "source": [
        "df.describe"
      ],
      "metadata": {
        "id": "uhdezOJpFTQy"
      },
      "execution_count": null,
      "outputs": []
    },
    {
      "cell_type": "code",
      "source": [
        "# Dataset Info\n",
        "df.info()"
      ],
      "metadata": {
        "id": "e9hRXRi6meOf"
      },
      "execution_count": null,
      "outputs": []
    },
    {
      "cell_type": "code",
      "source": [
        "df['Date'] = pd.to_datetime(df['Date'].apply(lambda x: datetime.strptime(x, '%b-%y')))\n",
        "df.head()"
      ],
      "metadata": {
        "id": "iixHmVj6Ft49"
      },
      "execution_count": null,
      "outputs": []
    },
    {
      "cell_type": "markdown",
      "source": [
        "#### Duplicate Values"
      ],
      "metadata": {
        "id": "35m5QtbWiB9F"
      }
    },
    {
      "cell_type": "code",
      "source": [
        "# Dataset Duplicate Value Count\n",
        "len(df[df.duplicated()])"
      ],
      "metadata": {
        "id": "1sLdpKYkmox0"
      },
      "execution_count": null,
      "outputs": []
    },
    {
      "cell_type": "markdown",
      "source": [
        "#### Missing Values/Null Values"
      ],
      "metadata": {
        "id": "PoPl-ycgm1ru"
      }
    },
    {
      "cell_type": "code",
      "source": [
        "# Missing Values/Null Values Count\n",
        "print(df.isnull().sum())"
      ],
      "metadata": {
        "id": "GgHWkxvamxVg"
      },
      "execution_count": null,
      "outputs": []
    },
    {
      "cell_type": "markdown",
      "source": [
        "### What did you know about your dataset?"
      ],
      "metadata": {
        "id": "H0kj-8xxnORC"
      }
    },
    {
      "cell_type": "markdown",
      "source": [
        "This dataset has monthly stock prices of the bank since its inception and includes closing, starting, highest, and lowest stock prices of every month. The main objective is to predict the stock's closing price of the month."
      ],
      "metadata": {
        "id": "gfoNAAC-nUe_"
      }
    },
    {
      "cell_type": "markdown",
      "source": [
        "## ***2. Understanding Your Variables***"
      ],
      "metadata": {
        "id": "nA9Y7ga8ng1Z"
      }
    },
    {
      "cell_type": "code",
      "source": [
        "# Dataset Describe\n",
        "df.describe(include = \"all\")"
      ],
      "metadata": {
        "id": "DnOaZdaE5Q5t"
      },
      "execution_count": null,
      "outputs": []
    },
    {
      "cell_type": "markdown",
      "source": [
        "### Variables Description "
      ],
      "metadata": {
        "id": "PBTbrJXOngz2"
      }
    },
    {
      "cell_type": "markdown",
      "source": [
        "Dataset contains Yes Bank stock monthly prices since it listed on stock exchange.\n",
        "\n",
        "Following are its features:-\n",
        "\n",
        "**Date :** In our data its monthly observation of stock since it listed.\n",
        "\n",
        "**Open :** The price a stock when the stock exchange open for the day.\n",
        "\n",
        "**High :** The maximum price of a stock attain during given period of time.\n",
        "\n",
        "**Low :** The minimum price of a stock attain during given period of time.\n",
        "\n",
        "**Close :** The price of a stock when the stock exchange closed for the day.\n"
      ],
      "metadata": {
        "id": "aJV4KIxSnxay"
      }
    },
    {
      "cell_type": "markdown",
      "source": [
        "### Check Unique Values for each variable."
      ],
      "metadata": {
        "id": "u3PMJOP6ngxN"
      }
    },
    {
      "cell_type": "code",
      "source": [
        "# Check Unique Values for each variable.\n",
        "for i in df.columns.tolist():\n",
        "  print(\"No of unique value in \", i,\"is\",df[i].nunique())"
      ],
      "metadata": {
        "id": "zms12Yq5n-jE"
      },
      "execution_count": null,
      "outputs": []
    },
    {
      "cell_type": "markdown",
      "source": [
        "## ***4. Data Vizualization : Outlier Detection***"
      ],
      "metadata": {
        "id": "GF8Ens_Soomf"
      }
    },
    {
      "cell_type": "code",
      "source": [
        "fig = plt.figure(figsize =(10, 7))\n",
        "boxplot = df.boxplot(column=['Open','High','Low',\"Close\"],grid=False,notch=True)\n",
        "plt.show()"
      ],
      "metadata": {
        "id": "_1NO4fcX7gAW"
      },
      "execution_count": null,
      "outputs": []
    },
    {
      "cell_type": "markdown",
      "source": [
        "As above boxplot shows outliers this is because of stock price fall from nearly around 400 to 20.This happen quick within very few months thats why top value of stocks looks like outliers.\n"
      ],
      "metadata": {
        "id": "t5pUn6278Cvg"
      }
    },
    {
      "cell_type": "markdown",
      "source": [
        " ## **EDA**"
      ],
      "metadata": {
        "id": "7X_NOMoC8iLf"
      }
    },
    {
      "cell_type": "markdown",
      "source": [
        "firstly will see how closing price change with given time"
      ],
      "metadata": {
        "id": "mzVZwVw-88SU"
      }
    },
    {
      "cell_type": "code",
      "source": [
        "def update_font():\n",
        "  font_family=\"Courier New\",\n",
        "  title_font_family=\"Times New Roman\",\n",
        "  legend_title_font_color=\"green\""
      ],
      "metadata": {
        "id": "uKmxLQFn82vH"
      },
      "execution_count": null,
      "outputs": []
    },
    {
      "cell_type": "markdown",
      "source": [
        "**Plotting bar graph of Closing Price wrt Year**"
      ],
      "metadata": {
        "id": "TwI8Y7rE9IjN"
      }
    },
    {
      "cell_type": "code",
      "source": [
        "fig = px.bar(df, x=\"Date\", y=\"Close\",color=\"Close\",\n",
        "\t\t\thover_data=['Close'], barmode = 'stack',title='Yes Bank closing price with respect to Year')\n",
        "fig.update_layout(\n",
        "    update_font(),\n",
        "    xaxis_title=\"Year\",\n",
        "    yaxis_title=\"Close Price\",\n",
        ")\n",
        "fig.show()"
      ],
      "metadata": {
        "id": "pL8jIONE9gHn"
      },
      "execution_count": null,
      "outputs": []
    },
    {
      "cell_type": "markdown",
      "source": [
        "**Plotting line graph of Date and other parameters**"
      ],
      "metadata": {
        "id": "InlrQ6v995SA"
      }
    },
    {
      "cell_type": "code",
      "source": [
        "fig =px.line(df, x=\"Date\", y=\"Low\")\n",
        "fig.add_scatter(x=df['Date'], y=df['Open']) \n",
        "fig.add_scatter(x=df['Date'], y=df['Close']) \n",
        "fig.add_scatter(x=df['Date'], y=df['High']) \n",
        "fig.update_layout(\n",
        "    update_font(),\n",
        "    title=\"Yes Bank prices with respect to Year\",\n",
        "    xaxis_title=\"Year\",\n",
        "    yaxis_title=\"Price\",\n",
        ")\n",
        "fig.show()"
      ],
      "metadata": {
        "id": "CAG9EXPp976j"
      },
      "execution_count": null,
      "outputs": []
    },
    {
      "cell_type": "markdown",
      "source": [
        "* Here we cans see that the stocks were high from 2017 to 2018 but it dropped after 2018 because of fraud case regarding to Rana kapoor.\n",
        "\n",
        "* We can see in 2017 to 2019 there can be high action seen because of difference in high and low lines.\n",
        "\n",
        "* We can take closing price of the stock as the dependent variable as it is the final price of that day.\n",
        "\n",
        "\n",
        "\n"
      ],
      "metadata": {
        "id": "cl1XjBuW-hTe"
      }
    },
    {
      "cell_type": "markdown",
      "source": [
        "* ## **Distribution of dependent variable Close Price of stock.**"
      ],
      "metadata": {
        "id": "99oJwifG-zBE"
      }
    },
    {
      "cell_type": "code",
      "source": [
        "plt.figure(figsize=(6,5))\n",
        "sns.distplot(df['Close'],color='blue')\n",
        "plt.title('Distribution of Close Price', fontsize=16)\n",
        "plt.xlabel('Closing Price', fontsize=12)\n",
        "plt.ylabel('Density', fontsize=12)\n",
        "plt.show()"
      ],
      "metadata": {
        "id": "sxok7-gK_T3L"
      },
      "execution_count": null,
      "outputs": []
    },
    {
      "cell_type": "markdown",
      "source": [
        "It is rightly skewed distribution.\n",
        "\n",
        "need to go with log transformation to make it normal distribution"
      ],
      "metadata": {
        "id": "S5aKs2uv_fMu"
      }
    },
    {
      "cell_type": "code",
      "source": [
        "plt.figure(figsize=(6,5))\n",
        "sns.distplot(np.log10(df['Close']),color='blue')\n",
        "plt.title('Distribution of Close Price', fontsize=16)\n",
        "plt.xlabel('Closing Price', fontsize=12)\n",
        "plt.ylabel('Density', fontsize=12)\n",
        "plt.show()"
      ],
      "metadata": {
        "id": "WtepeTPD_61A"
      },
      "execution_count": null,
      "outputs": []
    },
    {
      "cell_type": "markdown",
      "source": [
        "I have used log10 transformation as it was positively skewed.Now it seems more normal"
      ],
      "metadata": {
        "id": "IZQ5UlpcAEEZ"
      }
    },
    {
      "cell_type": "markdown",
      "source": [
        "* ## **Distribution of numerical features High, Low and Open price of stock.**"
      ],
      "metadata": {
        "id": "PKtCyPMMASPc"
      }
    },
    {
      "cell_type": "code",
      "source": [
        "# List of independent features\n",
        "numerical_features = list(set(df.describe().columns)-{'Close'})\n",
        "numerical_features"
      ],
      "metadata": {
        "id": "8boJYsdtAhBS"
      },
      "execution_count": null,
      "outputs": []
    },
    {
      "cell_type": "markdown",
      "source": [
        "Plotting distribution for each of numerical features."
      ],
      "metadata": {
        "id": "Ugr3dZp0Avdy"
      }
    },
    {
      "cell_type": "code",
      "source": [
        "for col in numerical_features:\n",
        "    plt.figure(figsize=(5,4))\n",
        "    sns.distplot(df[col], color='green')\n",
        "    plt.title(\"Distribution\", fontsize=16)\n",
        "    plt.xlabel(col, fontsize=12)\n",
        "    plt.ylabel('Density', fontsize=12)\n",
        "plt.show"
      ],
      "metadata": {
        "id": "Zo3ZMMZkAt_h"
      },
      "execution_count": null,
      "outputs": []
    },
    {
      "cell_type": "markdown",
      "source": [
        "* It looks all numerical features are rightly skewed.\n",
        "\n",
        "* We need to Apply log transformation to make normal."
      ],
      "metadata": {
        "id": "3FH7ocJXBJ82"
      }
    },
    {
      "cell_type": "code",
      "source": [
        "for col in numerical_features:\n",
        "    plt.figure(figsize=(5,4))\n",
        "    sns.distplot(np.log10(df[col]), color='green')\n",
        "    plt.title(\"Distribution\", fontsize=16)\n",
        "    plt.xlabel(col, fontsize=12)\n",
        "    plt.ylabel('Density', fontsize=12)\n",
        "plt.show"
      ],
      "metadata": {
        "id": "CpwYtzYUBS7m"
      },
      "execution_count": null,
      "outputs": []
    },
    {
      "cell_type": "markdown",
      "source": [
        "* ## **Scatter Plot to see the Best Fit line**"
      ],
      "metadata": {
        "id": "fFIvVwk6BqtB"
      }
    },
    {
      "cell_type": "markdown",
      "source": [
        "**Best Fit Line :-** A line of best fit is a straight line that is the best approximation of the given set of data. It is used to study the nature of the relation between two variables."
      ],
      "metadata": {
        "id": "4dd_OpvgB6FF"
      }
    },
    {
      "cell_type": "code",
      "source": [
        "for col in numerical_features:\n",
        "   fig = plt.figure(figsize=(6,5))\n",
        "   ax = fig.gca()\n",
        "   feature = df[col]\n",
        "   label = df['Close']\n",
        "   correlation = feature.corr(label)\n",
        "   plt.scatter(x=feature, y=label,marker=\"^\",c=\"b\",s = label*2)\n",
        "   plt.xlabel(col)\n",
        "   plt.ylabel('Close')\n",
        "   ax.set_title(col + ' Vs. Close' + '         Correlation: ' + str(round(correlation,2)), fontsize=10)\n",
        "   z = np.polyfit(df[col], df['Close'], 1)\n",
        "   y_hat = np.poly1d(z)(df[col])\n",
        "   plt.plot(df[col], y_hat, \"r\", lw=1)\n",
        "plt.show()"
      ],
      "metadata": {
        "id": "5gIneALFCR65"
      },
      "execution_count": null,
      "outputs": []
    },
    {
      "cell_type": "markdown",
      "source": [
        "* ## **Checking Correlation between variables**"
      ],
      "metadata": {
        "id": "46NZS4UdC1Xh"
      }
    },
    {
      "cell_type": "code",
      "source": [
        "plt.figure(figsize=(7,4))\n",
        "correlation = df.corr()\n",
        "sns.heatmap(abs(correlation), annot=True, cmap='BuPu')"
      ],
      "metadata": {
        "id": "BOMvnfvtEEdh"
      },
      "execution_count": null,
      "outputs": []
    },
    {
      "cell_type": "markdown",
      "source": [
        "* There are very high correlation between independent variables which lead us to multicollinearity. \n",
        "* High multicollinearity is not good for fitting model and prediction because a slight change in any independent variable will give very unpredictable results.\n",
        "* To check multicollinearity and how much it is in our dataset, we have to calculate VIF(Variation Inflation Factor)\n",
        "* so, we can decide which varible we should keep in our analysis and predicting model and which should be removed from the datasets."
      ],
      "metadata": {
        "id": "7i62K3UfJBdO"
      }
    },
    {
      "cell_type": "code",
      "source": [
        "def calc_vif(X):\n",
        "   # Calculating VIF\n",
        "   vif = pd.DataFrame()\n",
        "   vif[\"variables\"] = X.columns\n",
        "   vif[\"VIF\"] = [variance_inflation_factor(X.values, i) for i in range(X.shape[1])]\n",
        "   return(vif)"
      ],
      "metadata": {
        "id": "pS5Krx-IJ6uY"
      },
      "execution_count": null,
      "outputs": []
    },
    {
      "cell_type": "code",
      "source": [
        "calc_vif(df[[i for i in df.describe().columns if i not in ['Date','Close']]])"
      ],
      "metadata": {
        "id": "oTweHsKKJ_xI"
      },
      "execution_count": null,
      "outputs": []
    },
    {
      "cell_type": "markdown",
      "source": [
        "We have very high VIF in our dataset so, we have to drop one them which is least correlated with dependent variable."
      ],
      "metadata": {
        "id": "R7sp5hVPKR6G"
      }
    },
    {
      "cell_type": "markdown",
      "source": [
        "**find correlation with heatmap**"
      ],
      "metadata": {
        "id": "WnCzq3XHKmRP"
      }
    },
    {
      "cell_type": "code",
      "source": [
        "plt.figure(figsize=(7,4))\n",
        "correlation = df[['Low','High','Open','Close']].corr()\n",
        "sns.heatmap(abs(correlation), annot=True, cmap='BuPu')"
      ],
      "metadata": {
        "id": "pmLRjkS7KjJg"
      },
      "execution_count": null,
      "outputs": []
    },
    {
      "cell_type": "markdown",
      "source": [
        "* In general case, Any variable having VIF above 5 is considered to be multicollinear.\n",
        "* The thumb rule is to drop the highest VIF variable.\n",
        "* However, you may choose to select the variable to be dropped based on business logic\n",
        "* Here all feature are equally important and we have very limited features."
      ],
      "metadata": {
        "id": "AKrHKIgFL6hR"
      }
    },
    {
      "cell_type": "markdown",
      "source": [
        "## **Data Transformation**"
      ],
      "metadata": {
        "id": "t9gT7tyMNYnG"
      }
    },
    {
      "cell_type": "markdown",
      "source": [
        "Splitting data\n",
        "* X = Independent variable\n",
        "* Y = Dependent variable"
      ],
      "metadata": {
        "id": "Xf_LFFsaNhng"
      }
    },
    {
      "cell_type": "code",
      "source": [
        "X = df.drop(columns=['Close','Date'])\n",
        "y = df['Close']"
      ],
      "metadata": {
        "id": "jSxmiJl7Nnlk"
      },
      "execution_count": null,
      "outputs": []
    },
    {
      "cell_type": "markdown",
      "source": [
        "## **Normalization**"
      ],
      "metadata": {
        "id": "ZPgihOmRN_28"
      }
    },
    {
      "cell_type": "markdown",
      "source": [
        "## Data must be normally distributed before apply normalization.\n",
        "\n",
        "Normalization is one of the feature scaling techniques. We particularly apply normalization when the data is skewed on the either axis i.e. when the data does not follow the gaussian distribution.In normalization, we convert the data features of different scales to a common scale which further makes it easy for the data to be processed for modeling. Thus, all the data features(variables) tend to have a similar impact on the modeling portion."
      ],
      "metadata": {
        "id": "xRf7wrSfVD0c"
      }
    },
    {
      "cell_type": "code",
      "source": [
        "from scipy.stats import zscore\n",
        "X = X.apply(zscore)\n",
        "y = np.log10(y)"
      ],
      "metadata": {
        "id": "TlR2WLUtVMOr"
      },
      "execution_count": null,
      "outputs": []
    },
    {
      "cell_type": "markdown",
      "source": [
        "Splitting train test data with 80-20"
      ],
      "metadata": {
        "id": "EAJaxAIKVQyW"
      }
    },
    {
      "cell_type": "code",
      "source": [
        "X_train,X_test,y_train,y_test = train_test_split(X,y,test_size=0.20,random_state = 1)"
      ],
      "metadata": {
        "id": "tctzKar3VgJa"
      },
      "execution_count": null,
      "outputs": []
    },
    {
      "cell_type": "code",
      "source": [
        "X_train.shape"
      ],
      "metadata": {
        "id": "JjCBXIjuVkgE"
      },
      "execution_count": null,
      "outputs": []
    },
    {
      "cell_type": "code",
      "source": [
        "X_test.shape"
      ],
      "metadata": {
        "id": "U0MRXMOGVoUF"
      },
      "execution_count": null,
      "outputs": []
    },
    {
      "cell_type": "markdown",
      "source": [
        "* ## **Linear Regression**"
      ],
      "metadata": {
        "id": "c7fKTVclYvRb"
      }
    },
    {
      "cell_type": "markdown",
      "source": [
        "Linear Regression is a machine learning algorithm based on supervised learning. It performs a regression task. Regression models a target prediction value based on independent variables. It is mostly used for finding out the relationship between variables and forecasting."
      ],
      "metadata": {
        "id": "gV-FW9hQZDTK"
      }
    },
    {
      "cell_type": "markdown",
      "source": [
        "fit data into Linear Regression"
      ],
      "metadata": {
        "id": "wTVJn5NDZMtR"
      }
    },
    {
      "cell_type": "code",
      "source": [
        "from sklearn.linear_model import LinearRegression\n",
        "linear_reg = LinearRegression()\n",
        "linear_reg_model = linear_reg.fit(X_train,y_train)"
      ],
      "metadata": {
        "id": "0MNf7s2zZIqX"
      },
      "execution_count": null,
      "outputs": []
    },
    {
      "cell_type": "code",
      "source": [
        "#train accuracy of linear regression model\n",
        "round(linear_reg.score(X_train,y_train), 4)"
      ],
      "metadata": {
        "id": "m4gb_nGLZfWP"
      },
      "execution_count": null,
      "outputs": []
    },
    {
      "cell_type": "code",
      "source": [
        "#test accuracy of linear regression model\n",
        "round(linear_reg.score(X_test,y_test), 4)"
      ],
      "metadata": {
        "id": "_RHxb5GsZmSP"
      },
      "execution_count": null,
      "outputs": []
    },
    {
      "cell_type": "markdown",
      "source": [
        "prediction of test data."
      ],
      "metadata": {
        "id": "qWut3ideZ3J7"
      }
    },
    {
      "cell_type": "code",
      "source": [
        "y_pred = linear_reg.predict(X_test)\n",
        "y_pred"
      ],
      "metadata": {
        "id": "sXK8IAnRZ1TL"
      },
      "execution_count": null,
      "outputs": []
    },
    {
      "cell_type": "code",
      "source": [
        "np.array(y_test)"
      ],
      "metadata": {
        "id": "WoWmmkNKZ-V8"
      },
      "execution_count": null,
      "outputs": []
    },
    {
      "cell_type": "code",
      "source": [
        "#Creating DataFrames of test and train dataset\n",
        "train_df = pd.DataFrame(X_train,y_train)\n",
        "test_df = pd.DataFrame(10**y_test)\n",
        "test_df.rename(columns = {'Close':'Actual Closing Price'},inplace = True)"
      ],
      "metadata": {
        "id": "GRgzjVMtb4QM"
      },
      "execution_count": null,
      "outputs": []
    },
    {
      "cell_type": "code",
      "source": [
        "test_df[' Predicted Closing Price'] = 10**y_pred\n",
        "test_df.head()"
      ],
      "metadata": {
        "id": "3JCSiFn-b6xL"
      },
      "execution_count": null,
      "outputs": []
    },
    {
      "cell_type": "markdown",
      "source": [
        "Evaluation Metrics of Linear Regression:"
      ],
      "metadata": {
        "id": "MqScUq2l5zeA"
      }
    },
    {
      "cell_type": "code",
      "source": [
        "print(\"MSE :\",round(mean_squared_error(y_test, y_pred), 4))\n",
        "print(\"RMSE :\",round(math.sqrt(mean_squared_error(y_test, y_pred)),4))\n",
        "print(\"MAE :\",round(mean_absolute_error(y_test, y_pred),4))\n",
        "print(\"MAPE :\",round(mean_absolute_percentage_error(y_test, y_pred),4))\n",
        "print(\"R2 :\",round(r2_score(y_test, y_pred), 4))"
      ],
      "metadata": {
        "id": "uFnyGNZg53Dm"
      },
      "execution_count": null,
      "outputs": []
    },
    {
      "cell_type": "markdown",
      "source": [
        "**Linear Regression: Actual Vs. Predicted**"
      ],
      "metadata": {
        "id": "1UVNH__K5-XE"
      }
    },
    {
      "cell_type": "code",
      "source": [
        "# Actual Price vs. Predicted Price for Linear Regression Plot\n",
        "plt.figure(figsize=(8,4))\n",
        "plt.plot(10**(np.array(y_test)))\n",
        "plt.plot(10**(y_pred))\n",
        "plt.suptitle('Actual Vs. Predicted Close Price: Linear Regression', fontsize=16)\n",
        "plt.legend(['Actual','Predicted'], fontsize=12)\n",
        "plt.xlabel('No of Test Data', fontsize=12)\n",
        "plt.ylabel('Closing Price', fontsize=12)\n",
        "plt.grid()"
      ],
      "metadata": {
        "id": "TsalK62z6EzT"
      },
      "execution_count": null,
      "outputs": []
    },
    {
      "cell_type": "markdown",
      "source": [
        "There is much value difference seen spikes of price"
      ],
      "metadata": {
        "id": "fD61tAOr_ZNL"
      }
    },
    {
      "cell_type": "markdown",
      "source": [
        "* ## **Lasso Regression**"
      ],
      "metadata": {
        "id": "xMt-Bu0D_bTj"
      }
    },
    {
      "cell_type": "markdown",
      "source": [
        "Lasso regression is also called Penalized regression method. This method is usually used in machine learning for the selection of the subset of variables. It provides greater prediction accuracy as compared to other regression models. Lasso Regularization helps to increase model interpretation."
      ],
      "metadata": {
        "id": "ejqLr1oY_yjk"
      }
    },
    {
      "cell_type": "code",
      "source": [
        "#fit data into Lasso Regression\n",
        "\n",
        "from sklearn.linear_model import Lasso\n",
        "\n",
        "lasso_reg = Lasso(alpha=0.1,max_iter=3000)  #will keep alpha=0.1 and max iteration upto 3000\n",
        "lasso_reg_model = lasso_reg.fit(X_train,y_train)"
      ],
      "metadata": {
        "id": "WzsBIyrw_2ar"
      },
      "execution_count": null,
      "outputs": []
    },
    {
      "cell_type": "code",
      "source": [
        "#accuracy of lasso regression model\n",
        "round(lasso_reg.score(X_train,y_train),4)"
      ],
      "metadata": {
        "id": "kFgL5a-i_8Qq"
      },
      "execution_count": null,
      "outputs": []
    },
    {
      "cell_type": "markdown",
      "source": [
        "-it looks less accuracy than linear regression"
      ],
      "metadata": {
        "id": "u9czR76gABvv"
      }
    },
    {
      "cell_type": "code",
      "source": [
        "#prediction of test data.\n",
        "y_pred_lasso = lasso_reg.predict(X_test)"
      ],
      "metadata": {
        "id": "RRQBTwpqAF63"
      },
      "execution_count": null,
      "outputs": []
    },
    {
      "cell_type": "code",
      "source": [
        "y_pred_lasso"
      ],
      "metadata": {
        "id": "Y52zpb6EANLe"
      },
      "execution_count": null,
      "outputs": []
    },
    {
      "cell_type": "code",
      "source": [
        "np.array(y_test)"
      ],
      "metadata": {
        "id": "JRK_3QhnARx-"
      },
      "execution_count": null,
      "outputs": []
    },
    {
      "cell_type": "code",
      "source": [
        "test_df['lasso Predicted Closing Price'] = 10**y_pred_lasso\n",
        "lasso_df = test_df.loc[:,['Actual Closing Price','lasso Predicted Closing Price']]\n",
        "lasso_df.head(5)"
      ],
      "metadata": {
        "id": "Y8d5A25IAX4E"
      },
      "execution_count": null,
      "outputs": []
    },
    {
      "cell_type": "markdown",
      "source": [
        "Evaluation Metrics of Lasso Regression:"
      ],
      "metadata": {
        "id": "RhIyMK3XAfD7"
      }
    },
    {
      "cell_type": "code",
      "source": [
        "# Test Performance of lasso regression model\n",
        "print(\"MSE :\",round(mean_squared_error(y_test, y_pred_lasso), 4))\n",
        "print(\"RMSE :\",round(math.sqrt(mean_squared_error(y_test, y_pred_lasso)),4))\n",
        "print(\"MAE :\",round(mean_absolute_error(y_test, y_pred_lasso),4))\n",
        "print(\"MAPE :\",round(mean_absolute_percentage_error(y_test, y_pred_lasso),4))\n",
        "print(\"R2 :\",round(r2_score(y_test, y_pred_lasso), 4))"
      ],
      "metadata": {
        "id": "usY4myn3Ai8b"
      },
      "execution_count": null,
      "outputs": []
    },
    {
      "cell_type": "markdown",
      "source": [
        "**Lasso Regression: Actual Vs. Predicted**"
      ],
      "metadata": {
        "id": "q5RN_089Asjg"
      }
    },
    {
      "cell_type": "code",
      "source": [
        "# Actual Price vs. Predicted Price for Lasso Regression Plotting\n",
        "plt.figure(figsize=(8,4))\n",
        "plt.plot(10**(np.array(y_test)))\n",
        "plt.plot(10**(y_pred_lasso))\n",
        "plt.suptitle('Actual Vs. Predicted Close Price: Lasso Regression', fontsize=16)\n",
        "plt.legend(['Actual','Predicted'], fontsize=12)\n",
        "plt.xlabel('No of Test Data', fontsize=12)\n",
        "plt.ylabel('Closing Price', fontsize=12)\n",
        "plt.grid()"
      ],
      "metadata": {
        "id": "XKHgrJ7UAwHX"
      },
      "execution_count": null,
      "outputs": []
    },
    {
      "cell_type": "markdown",
      "source": [
        "* ## **Cross Validation On Lasso Regression** "
      ],
      "metadata": {
        "id": "HEIamTCE3Ayh"
      }
    },
    {
      "cell_type": "markdown",
      "source": [
        "We must assure that our model got the correct patterns from the data, and it is not getting up too much noise. For this purpose, we use the cross-validation technique.\n",
        "\n",
        "Cross-validation is a technique in which we train our model using the subset of the data-set and then evaluate using the complementary subset of the data-set.\n",
        "\n",
        "The three steps involved in cross-validation are as follows :\n",
        "* Reserve some portion of sample data-set.\n",
        "* Using the rest data-set train the model.\n",
        "* Test the model using the reserve portion of the data-set."
      ],
      "metadata": {
        "id": "NPr3xzDj3RmD"
      }
    },
    {
      "cell_type": "code",
      "source": [
        "#importing GridSearchCV\n",
        "from sklearn.model_selection import GridSearchCV"
      ],
      "metadata": {
        "id": "VXBmLzPA3dto"
      },
      "execution_count": null,
      "outputs": []
    },
    {
      "cell_type": "code",
      "source": [
        "# Hyper-Parameter Tuning for Lasso Regression\n",
        "lasso_cv = Lasso()\n",
        "parameters = {'alpha':[1e-15,1e-13,1e-10,1e-8,1e-5,1e-4,1e-3,1e-2,1e-1,1,5,10,20,30,40,45,50,55,60,100]}\n",
        "lasso_model_cv = GridSearchCV(lasso_cv, parameters,scoring = 'neg_mean_squared_error', cv = 3, return_train_score=True)"
      ],
      "metadata": {
        "id": "wJ87uEJU3g2V"
      },
      "execution_count": null,
      "outputs": []
    },
    {
      "cell_type": "code",
      "source": [
        "lasso_model_cv.fit(X_train,y_train)"
      ],
      "metadata": {
        "id": "e9HtI8xP3lVX"
      },
      "execution_count": null,
      "outputs": []
    },
    {
      "cell_type": "code",
      "source": [
        "print(\"The best fit alpha value is found out to be :\" ,round(lasso_model_cv.best_params_['alpha'], 4))\n",
        "print(\"The negative mean squared error for is: \", round(lasso_model_cv.best_score_,4))"
      ],
      "metadata": {
        "id": "3xXE4SGa3z6b"
      },
      "execution_count": null,
      "outputs": []
    },
    {
      "cell_type": "code",
      "source": [
        "#prediction of test data.\n",
        "y_pred_lasso_cv = lasso_model_cv.predict(X_test)"
      ],
      "metadata": {
        "id": "gq8j9_wY33qA"
      },
      "execution_count": null,
      "outputs": []
    },
    {
      "cell_type": "code",
      "source": [
        "y_pred_lasso_cv"
      ],
      "metadata": {
        "id": "1DPALRqx36Xr"
      },
      "execution_count": null,
      "outputs": []
    },
    {
      "cell_type": "code",
      "source": [
        "np.array(y_test)"
      ],
      "metadata": {
        "id": "GTY-OQwa39VC"
      },
      "execution_count": null,
      "outputs": []
    },
    {
      "cell_type": "code",
      "source": [
        "test_df['lasso Predicted Closing Price'] = 10**y_pred_lasso_cv\n",
        "lasso_df = test_df.loc[:,['Actual Closing Price','lasso Predicted Closing Price']]\n",
        "lasso_df.head(5)"
      ],
      "metadata": {
        "id": "wIzBQORO4AvN"
      },
      "execution_count": null,
      "outputs": []
    },
    {
      "cell_type": "markdown",
      "source": [
        "Evaluation Metrics of Lasso Regression after Validation:"
      ],
      "metadata": {
        "id": "uODujQwy4Hdu"
      }
    },
    {
      "cell_type": "code",
      "source": [
        "# Test Performance of lasso regression model after validation\n",
        "print(\"MSE :\",round(mean_squared_error(y_test, y_pred_lasso_cv), 4))\n",
        "print(\"RMSE :\",round(math.sqrt(mean_squared_error(y_test, y_pred_lasso_cv)),4))\n",
        "print(\"MAE :\",round(mean_absolute_error(y_test, y_pred_lasso_cv),4))\n",
        "print(\"MAPE :\",round(mean_absolute_percentage_error(y_test, y_pred_lasso_cv),4))\n",
        "print(\"R2 :\",round(r2_score(y_test, y_pred_lasso_cv), 4))"
      ],
      "metadata": {
        "id": "RY3SXivw4JvE"
      },
      "execution_count": null,
      "outputs": []
    },
    {
      "cell_type": "markdown",
      "source": [
        "After validation accuracy increase"
      ],
      "metadata": {
        "id": "A9ESRJXh4OGb"
      }
    },
    {
      "cell_type": "markdown",
      "source": [
        "Lasso Regression After Validation: Actual Vs. Predicted"
      ],
      "metadata": {
        "id": "5mIJkP2w4SAI"
      }
    },
    {
      "cell_type": "code",
      "source": [
        "# Actual Price vs. Predicted Price for Lasso Regression after Validation Plotting \n",
        "plt.figure(figsize=(8,4))\n",
        "plt.plot(10**(np.array(y_test)))\n",
        "plt.plot(10**(y_pred_lasso_cv))\n",
        "plt.suptitle('Actual Vs. Predicted Close Price: Lasso Regression After CV', fontsize=16)\n",
        "plt.legend(['Actual','Predicted'], fontsize=12)\n",
        "plt.xlabel('No of Test Data', fontsize=12)\n",
        "plt.ylabel('Closing Price', fontsize=12)\n",
        "plt.grid()"
      ],
      "metadata": {
        "id": "tEB6XGY_4UP3"
      },
      "execution_count": null,
      "outputs": []
    },
    {
      "cell_type": "markdown",
      "source": [
        "* ## **Ridge Regression**\n",
        "\n",
        "Ridge regression is one of the most fundamental regularization techniques which is not used by many due to the complex science behind it. If you have an overall idea about the concept of multiple regression, it’s not so difficult to explore the science behind Ridge regression in r. Regression is the same, what makes regularization different is that the way how the model coefficients are determined."
      ],
      "metadata": {
        "id": "3a-HL8Vc4-Tw"
      }
    },
    {
      "cell_type": "code",
      "source": [
        "#fit data into Ridge Regression\n",
        "from sklearn.linear_model import Ridge\n",
        "\n",
        "ridge_reg = Ridge(alpha=0.01)\n",
        "ridge_reg_model = ridge_reg.fit(X_train,y_train)"
      ],
      "metadata": {
        "id": "hOKnQWGa5PxT"
      },
      "execution_count": null,
      "outputs": []
    },
    {
      "cell_type": "code",
      "source": [
        "#accuracy of lasso regression model\n",
        "round(ridge_reg.score(X_train,y_train),4)"
      ],
      "metadata": {
        "id": "pY3D9QV05Ull"
      },
      "execution_count": null,
      "outputs": []
    },
    {
      "cell_type": "code",
      "source": [
        "#prediction of test data.\n",
        "y_pred_ridge = ridge_reg.predict(X_test)"
      ],
      "metadata": {
        "id": "cIrshbwO5X6O"
      },
      "execution_count": null,
      "outputs": []
    },
    {
      "cell_type": "code",
      "source": [
        "y_pred_ridge"
      ],
      "metadata": {
        "id": "rmXbAHSl5bEb"
      },
      "execution_count": null,
      "outputs": []
    },
    {
      "cell_type": "code",
      "source": [
        "np.array(y_test)"
      ],
      "metadata": {
        "id": "er9UXJzQ5eYs"
      },
      "execution_count": null,
      "outputs": []
    },
    {
      "cell_type": "code",
      "source": [
        "test_df['Ridge Predicted Closing Price'] = 10**y_pred_ridge\n",
        "ridge_df = test_df.loc[:,['Actual Closing Price','Ridge Predicted Closing Price']]\n",
        "ridge_df.head(5)"
      ],
      "metadata": {
        "id": "xQoz98ht5hjU"
      },
      "execution_count": null,
      "outputs": []
    },
    {
      "cell_type": "markdown",
      "source": [
        "**Ridge Regression: Actual Vs. Predicted**"
      ],
      "metadata": {
        "id": "7t9C34xw5mId"
      }
    },
    {
      "cell_type": "code",
      "source": [
        "# Actual Price vs. Predicted Price for Ridge Regression Plotting\n",
        "plt.figure(figsize=(8,4))\n",
        "plt.plot(10**(np.array(y_test)))\n",
        "plt.plot(10**(y_pred_ridge))\n",
        "plt.suptitle('Actual Vs. Predicted Close Price: Ridge Regression', fontsize=16)\n",
        "plt.legend(['Actual','Predicted'], fontsize=12)\n",
        "plt.xlabel('No of Test Data', fontsize=12)\n",
        "plt.ylabel('Closing Price', fontsize=12)\n",
        "plt.grid()"
      ],
      "metadata": {
        "id": "g3h7HMRl5q0x"
      },
      "execution_count": null,
      "outputs": []
    },
    {
      "cell_type": "markdown",
      "source": [
        "* ## **Cross Validation on Ridge Regression**"
      ],
      "metadata": {
        "id": "IsqVkYaG6AFd"
      }
    },
    {
      "cell_type": "code",
      "source": [
        "# Hyper-Parameter Tuning for Lasso Regression\n",
        "\n",
        "ridge_cv = Ridge()\n",
        "parameters = {'alpha':[1e-15,1e-13,1e-10,1e-8,1e-5,1e-4,1e-3,1e-2,1e-1,1,5,10,20,30,40,45,50,55,60,100]}\n",
        "ridge_model_cv = GridSearchCV(ridge_cv, parameters,scoring = 'neg_mean_squared_error',cv = 3)"
      ],
      "metadata": {
        "id": "VUE7eCF16f8x"
      },
      "execution_count": null,
      "outputs": []
    },
    {
      "cell_type": "code",
      "source": [
        "ridge_model_cv.fit(X_train,y_train)"
      ],
      "metadata": {
        "id": "Hz7r0C2s6qed"
      },
      "execution_count": null,
      "outputs": []
    },
    {
      "cell_type": "code",
      "source": [
        "print(\"The best fit alpha value is found out to be :\" ,ridge_model_cv.best_params_['alpha'])\n",
        "print(\"The negative mean squared error for is: \", round(ridge_model_cv.best_score_,3))"
      ],
      "metadata": {
        "id": "neN_5-ra6yDH"
      },
      "execution_count": null,
      "outputs": []
    },
    {
      "cell_type": "code",
      "source": [
        "#prediction of test data.\n",
        "y_pred_ridge_cv = ridge_model_cv.predict(X_test)"
      ],
      "metadata": {
        "id": "Lt0lHgp063Cs"
      },
      "execution_count": null,
      "outputs": []
    },
    {
      "cell_type": "code",
      "source": [
        "y_pred_ridge_cv"
      ],
      "metadata": {
        "id": "uPGKDNzD68mo"
      },
      "execution_count": null,
      "outputs": []
    },
    {
      "cell_type": "code",
      "source": [
        "np.array(y_test)"
      ],
      "metadata": {
        "id": "GmNuCEfz7AgI"
      },
      "execution_count": null,
      "outputs": []
    },
    {
      "cell_type": "code",
      "source": [
        "test_df['Ridge Predicted Closing Price'] = 10**y_pred_ridge_cv\n",
        "ridge_df = test_df.loc[:,['Actual Closing Price','Ridge Predicted Closing Price']]\n",
        "ridge_df.head(5)"
      ],
      "metadata": {
        "id": "9aHlQAsq7HJm"
      },
      "execution_count": null,
      "outputs": []
    },
    {
      "cell_type": "markdown",
      "source": [
        "**Evaluation Metrics of Ridge Regression after Validation:-**"
      ],
      "metadata": {
        "id": "HxFj8H4h7MbZ"
      }
    },
    {
      "cell_type": "code",
      "source": [
        "# Test Performance of ridge regression model after validation\n",
        "print(\"MSE :\",round(mean_squared_error(y_test, y_pred_ridge_cv), 4))\n",
        "print(\"RMSE :\",round(math.sqrt(mean_squared_error(y_test, y_pred_ridge_cv)),4))\n",
        "print(\"MAE :\",round(mean_absolute_error(y_test, y_pred_ridge_cv),4))\n",
        "print(\"MAPE :\",round(mean_absolute_percentage_error(y_test, y_pred_ridge_cv),4))\n",
        "print(\"R2 :\",round(r2_score(y_test, y_pred_ridge_cv), 4))"
      ],
      "metadata": {
        "id": "_6wSxlXc7YaX"
      },
      "execution_count": null,
      "outputs": []
    },
    {
      "cell_type": "markdown",
      "source": [
        "**Ridge Regression After Validation: Actual Vs. Predicted**"
      ],
      "metadata": {
        "id": "hKI1_aZK7d6r"
      }
    },
    {
      "cell_type": "code",
      "source": [
        "# Actual Price vs. Predicted Price for Ridge Regression after Validation Plotting \n",
        "plt.figure(figsize=(8,4))\n",
        "plt.plot(10**(np.array(y_test)))\n",
        "plt.plot(10**(y_pred_ridge_cv))\n",
        "plt.suptitle('Actual Vs. Predicted Close Price: Ridge Regression After CV', fontsize=16)\n",
        "plt.legend(['Actual','Predicted'], fontsize=12)\n",
        "plt.xlabel('No of Test Data', fontsize=12)\n",
        "plt.ylabel('Closing Price', fontsize=12)\n",
        "plt.grid()"
      ],
      "metadata": {
        "id": "GVxC0TbG7jvE"
      },
      "execution_count": null,
      "outputs": []
    },
    {
      "cell_type": "markdown",
      "source": [
        "* ## **Elastic Net Rregression**"
      ],
      "metadata": {
        "id": "eT46fU4Z-IyP"
      }
    },
    {
      "cell_type": "markdown",
      "source": [
        "The main purpose of ElasticNet Regression is to find the coefficients that minimize the sum of error squares by applying a penalty to these coefficients. ElasticNet combines L1 and L2 (Lasso and Ridge) approaches. As a result, it performs a more efficient smoothing process."
      ],
      "metadata": {
        "id": "vvBF-qHy-oZV"
      }
    },
    {
      "cell_type": "code",
      "source": [
        "#fit data into Elastic Net\n",
        "from sklearn.linear_model import ElasticNet\n",
        "elastic = ElasticNet(alpha=0.1,l1_ratio=0.5)\n",
        "elastic_model = elastic.fit(X_train,y_train)"
      ],
      "metadata": {
        "id": "W0GMO8ee-xEK"
      },
      "execution_count": null,
      "outputs": []
    },
    {
      "cell_type": "code",
      "source": [
        "#accuracy of lasso regression model\n",
        "round(elastic.score(X_train,y_train),3)"
      ],
      "metadata": {
        "id": "kENI6ncU-83w"
      },
      "execution_count": null,
      "outputs": []
    },
    {
      "cell_type": "code",
      "source": [
        "#prediction of test data.\n",
        "y_pred_elastic = elastic.predict(X_test)"
      ],
      "metadata": {
        "id": "SiE5Bql6_AVn"
      },
      "execution_count": null,
      "outputs": []
    },
    {
      "cell_type": "code",
      "source": [
        "y_pred_elastic"
      ],
      "metadata": {
        "id": "wihqCkoB_Dv3"
      },
      "execution_count": null,
      "outputs": []
    },
    {
      "cell_type": "code",
      "source": [
        "np.array(y_pred)"
      ],
      "metadata": {
        "id": "-035dYRW_G_b"
      },
      "execution_count": null,
      "outputs": []
    },
    {
      "cell_type": "code",
      "source": [
        "test_df['Elastic net Predicted Closing Price'] = 10**y_pred_elastic\n",
        "elasticnet_df = test_df.loc[:,['Actual Closing Price','Elastic net Predicted Closing Price']]\n",
        "elasticnet_df.head(5)"
      ],
      "metadata": {
        "id": "514MRz1w_Kem"
      },
      "execution_count": null,
      "outputs": []
    },
    {
      "cell_type": "code",
      "source": [
        "# Test Performance of Elastic Net model\n",
        "print(\"MSE :\",round(mean_squared_error(y_test, y_pred_elastic), 4))\n",
        "print(\"RMSE :\",round(math.sqrt(mean_squared_error(y_test, y_pred_elastic)),4))\n",
        "print(\"MAE :\",round(mean_absolute_error(y_test, y_pred_elastic),4))\n",
        "print(\"MAPE :\",round(mean_absolute_percentage_error(y_test, y_pred_elastic),4))\n",
        "print(\"R2 :\",round(r2_score(y_test, y_pred_elastic), 4))"
      ],
      "metadata": {
        "id": "Q1u43eJy_O43"
      },
      "execution_count": null,
      "outputs": []
    },
    {
      "cell_type": "markdown",
      "source": [
        "**Elastic Net: Actual Vs. Predicted**"
      ],
      "metadata": {
        "id": "TLBCD4-a_VQ6"
      }
    },
    {
      "cell_type": "code",
      "source": [
        "# Actual Price vs. Predicted Price for Elastic Net Plotting\n",
        "plt.figure(figsize=(8,4))\n",
        "plt.plot(10**(np.array(y_test)))\n",
        "plt.plot(10**(y_pred_elastic))\n",
        "plt.suptitle('Actual Vs. Predicted Close Price: Elastic Net', fontsize=16)\n",
        "plt.legend(['Actual','Predicted'], fontsize=12)\n",
        "plt.xlabel('No of Test Data', fontsize=12)\n",
        "plt.ylabel('Closing Price', fontsize=12)\n",
        "plt.grid()"
      ],
      "metadata": {
        "id": "E7OffiJl_dVk"
      },
      "execution_count": null,
      "outputs": []
    },
    {
      "cell_type": "markdown",
      "source": [
        "* ## **Cross Validation on Elastic Net**"
      ],
      "metadata": {
        "id": "mB570QCy_ndR"
      }
    },
    {
      "cell_type": "code",
      "source": [
        "# Hyper-Parameter Tuning for Elastic Net\n",
        "\n",
        "elastic_cv = ElasticNet()\n",
        "parameters = {'alpha':[1e-15,1e-13,1e-10,1e-8,1e-5,1e-4,1e-3,1e-2,1e-1,1,5,10,20,30,40,45,50,55,60,100],'l1_ratio':[0.3,0.4,0.5,0.6,0.7,0.8,1,2]}\n",
        "elastic_model_cv = GridSearchCV(elastic_cv,parameters,scoring='neg_mean_squared_error',cv=5)"
      ],
      "metadata": {
        "id": "m-nNe0A1_wnu"
      },
      "execution_count": null,
      "outputs": []
    },
    {
      "cell_type": "code",
      "source": [
        "elastic_model_cv.fit(X_train,y_train)"
      ],
      "metadata": {
        "id": "WIj4lN_b_4or"
      },
      "execution_count": null,
      "outputs": []
    },
    {
      "cell_type": "code",
      "source": [
        "elastic_model_cv.best_params_"
      ],
      "metadata": {
        "id": "qAQO8N6A_9gt"
      },
      "execution_count": null,
      "outputs": []
    },
    {
      "cell_type": "code",
      "source": [
        "print(\"The best fit alpha and L1 ratio value is found out to be :\" ,elastic_model_cv.best_params_['alpha'], elastic_model_cv.best_params_['l1_ratio'])\n",
        "print(\"The negative mean squared error for is: \", round(elastic_model_cv.best_score_,3))"
      ],
      "metadata": {
        "id": "pu4eC3ovAB5M"
      },
      "execution_count": null,
      "outputs": []
    },
    {
      "cell_type": "code",
      "source": [
        "#prediction of test and train data.\n",
        "y_pred_elastic_cv = elastic_model_cv.predict(X_test)"
      ],
      "metadata": {
        "id": "5r-B1AloAGJV"
      },
      "execution_count": null,
      "outputs": []
    },
    {
      "cell_type": "code",
      "source": [
        "y_pred_elastic_cv"
      ],
      "metadata": {
        "id": "0-QEfNNiAMYB"
      },
      "execution_count": null,
      "outputs": []
    },
    {
      "cell_type": "code",
      "source": [
        "np.array(y_test)"
      ],
      "metadata": {
        "id": "Ff5IMDEfAecR"
      },
      "execution_count": null,
      "outputs": []
    },
    {
      "cell_type": "code",
      "source": [
        "test_df['Elastic net Predicted Closing Price'] = 10**y_pred_elastic_cv\n",
        "elastic_df = test_df.loc[:,['Actual Closing Price','Elastic net Predicted Closing Price']]\n",
        "elastic_df.head(5)"
      ],
      "metadata": {
        "id": "nciKRSC_An4d"
      },
      "execution_count": null,
      "outputs": []
    },
    {
      "cell_type": "markdown",
      "source": [
        "**Evaluation Metrics of Elastic Net after Validation:**"
      ],
      "metadata": {
        "id": "k9jt2JJAAvGr"
      }
    },
    {
      "cell_type": "code",
      "source": [
        "# Test Performance of Elastic Net model after validation\n",
        "print(\"MSE :\",round(mean_squared_error(y_test, y_pred_elastic_cv), 4))\n",
        "print(\"RMSE :\",round(math.sqrt(mean_squared_error(y_test, y_pred_elastic_cv)),4))\n",
        "print(\"MAE :\",round(mean_absolute_error(y_test, y_pred_elastic_cv),4))\n",
        "print(\"MAPE :\",round(mean_absolute_percentage_error(y_test, y_pred_elastic_cv),4))\n",
        "print(\"R2 :\",round(r2_score(y_test, y_pred_elastic_cv), 4))"
      ],
      "metadata": {
        "id": "dpBFr08HA0aM"
      },
      "execution_count": null,
      "outputs": []
    },
    {
      "cell_type": "markdown",
      "source": [
        "**Elastic Net After Validation: Actual Vs. Predicted**"
      ],
      "metadata": {
        "id": "xmv77is2BBuF"
      }
    },
    {
      "cell_type": "code",
      "source": [
        "# Actual Price vs. Predicted Price for Elastic Net after Validation Plotting \n",
        "plt.figure(figsize=(8,4))\n",
        "plt.plot(10**(np.array(y_test)))\n",
        "plt.plot(10**(y_pred_elastic_cv))\n",
        "plt.suptitle('Actual Vs. Predicted Close Price: Elastic Net After CV', fontsize=16)\n",
        "plt.legend(['Actual','Predicted'], fontsize=12)\n",
        "plt.xlabel('No of Test Data', fontsize=12)\n",
        "plt.ylabel('Closing Price', fontsize=12)\n",
        "plt.grid()"
      ],
      "metadata": {
        "id": "WqGgOtcGB0Ze"
      },
      "execution_count": null,
      "outputs": []
    },
    {
      "cell_type": "markdown",
      "source": [
        "* ## **KNN Model**\n",
        "K-NN stands for K-Nearest Neighbors. It is an algorithm used for the prediction of a continuous variable. A non-parametric and a prediction problem; it does not care about the relationship between the predictor x the response variable y. It takes k nearest neighbors whose distances form that point are minimum and computes the average of those values."
      ],
      "metadata": {
        "id": "jYpew-skCwC9"
      }
    },
    {
      "cell_type": "code",
      "source": [
        "#Let's apply the KNn regrssor model \n",
        "from sklearn.neighbors import KNeighborsRegressor\n",
        "knn_regressor=KNeighborsRegressor(n_neighbors =3)\n",
        "#fitting the model\n",
        "knn_model=knn_regressor.fit(X_train,y_train)\n",
        "#Prediction\n",
        "y_knn_pred=knn_model.predict(X_test)"
      ],
      "metadata": {
        "id": "_gkwfSIwDPfS"
      },
      "execution_count": null,
      "outputs": []
    },
    {
      "cell_type": "code",
      "source": [
        "#K-Fold cross validation\n",
        "knn_kfold = model_selection.KFold(n_splits=7,shuffle=True, random_state=42)\n",
        "results_kfold = model_selection.cross_val_score(knn_model, X_test, y_test.astype('int'), cv=knn_kfold)\n",
        "print(\"Accuracy: \", results_kfold.mean()*100)"
      ],
      "metadata": {
        "id": "c2oYoDdSDUv7"
      },
      "execution_count": null,
      "outputs": []
    },
    {
      "cell_type": "code",
      "source": [
        "#Let's apply the KNn regrssor model \n",
        "from sklearn.neighbors import KNeighborsRegressor\n",
        "knn_regressor=KNeighborsRegressor(n_neighbors =4)\n",
        "#fitting the model\n",
        "knn_model=knn_regressor.fit(X_train,y_train)\n",
        "#Prediction\n",
        "y_knn_pred=knn_model.predict(X_test)"
      ],
      "metadata": {
        "id": "ooKhTbWvDif-"
      },
      "execution_count": null,
      "outputs": []
    },
    {
      "cell_type": "code",
      "source": [
        "#K-Fold cross validation\n",
        "knn_kfold = model_selection.KFold(n_splits=7,shuffle=True, random_state=42)\n",
        "results_kfold = model_selection.cross_val_score(knn_model, X_test, y_test.astype('int'), cv=knn_kfold)\n",
        "print(\"Accuracy: \", results_kfold.mean()*100)"
      ],
      "metadata": {
        "id": "e0dDVM4oDpOr"
      },
      "execution_count": null,
      "outputs": []
    },
    {
      "cell_type": "code",
      "source": [
        "#Let's apply the KNn regrssor model \n",
        "from sklearn.neighbors import KNeighborsRegressor\n",
        "knn_regressor=KNeighborsRegressor(n_neighbors =5)\n",
        "#fitting the model\n",
        "knn_model=knn_regressor.fit(X_train,y_train)\n",
        "#Prediction\n",
        "y_knn_pred=knn_model.predict(X_test)"
      ],
      "metadata": {
        "id": "ytcsoBSzDxhV"
      },
      "execution_count": null,
      "outputs": []
    },
    {
      "cell_type": "code",
      "source": [
        "#K-Fold cross validation\n",
        "knn_kfold = model_selection.KFold(n_splits=7,shuffle=True, random_state=42)\n",
        "results_kfold = model_selection.cross_val_score(knn_model, X_test, y_test.astype('int'), cv=knn_kfold)\n",
        "print(\"Accuracy: \", results_kfold.mean()*100)"
      ],
      "metadata": {
        "id": "Qusk8PP-D0Zz"
      },
      "execution_count": null,
      "outputs": []
    },
    {
      "cell_type": "markdown",
      "source": [
        "As we can see accuracy max at 4 so we can take 4 as k"
      ],
      "metadata": {
        "id": "KAEuXOeVEO69"
      }
    },
    {
      "cell_type": "code",
      "source": [
        "#Let's apply the KNn regrssor model \n",
        "from sklearn.neighbors import KNeighborsRegressor\n",
        "knn_regressor=KNeighborsRegressor(n_neighbors =4)\n",
        "#fitting the model\n",
        "knn_model=knn_regressor.fit(X_train,y_train)\n",
        "#Prediction\n",
        "y_knn_pred=knn_model.predict(X_test)\n",
        "y_knn_pred_train=knn_model.predict(X_train)"
      ],
      "metadata": {
        "id": "z7OXEhZ6EULY"
      },
      "execution_count": null,
      "outputs": []
    },
    {
      "cell_type": "markdown",
      "source": [
        "That k-fold cross validation is a procedure used to estimate the skill of the model on new data. There are common tactics that you can use to select the value of k for your dataset. There are commonly used variations on cross-validation such as stratified and repeated that are available in scikit-learn."
      ],
      "metadata": {
        "id": "3L6ll9NPEbCN"
      }
    },
    {
      "cell_type": "code",
      "source": [
        "#K-Fold cross validation\n",
        "knn_kfold = model_selection.KFold(n_splits=7,shuffle=True, random_state=42)\n",
        "results_kfold = model_selection.cross_val_score(knn_model, X_test, y_test.astype('int'), cv=knn_kfold)\n",
        "print(\"Accuracy: \", results_kfold.mean()*100)"
      ],
      "metadata": {
        "id": "TgxBJoNpEfxE"
      },
      "execution_count": null,
      "outputs": []
    },
    {
      "cell_type": "code",
      "source": [
        "test_df['KNN Predicted Closing Price'] = 10**y_knn_pred\n",
        "knn_df = test_df.loc[:,['Actual Closing Price','KNN Predicted Closing Price']]\n",
        "knn_df.head()"
      ],
      "metadata": {
        "id": "EwnXKF_AEswm"
      },
      "execution_count": null,
      "outputs": []
    },
    {
      "cell_type": "code",
      "source": [
        "print(\"MSE :\",round(mean_squared_error(y_test, y_knn_pred), 4))\n",
        "print(\"RMSE :\",round(math.sqrt(mean_squared_error(y_test, y_knn_pred)),4))\n",
        "print(\"MAE :\",round(mean_absolute_error(y_test, y_knn_pred),4))\n",
        "print(\"MAPE :\",round(mean_absolute_percentage_error(y_test, y_knn_pred),4))\n",
        "print(\"R2 :\",round(r2_score(y_test, y_knn_pred), 4))"
      ],
      "metadata": {
        "id": "ZP8zJf_VGAU0"
      },
      "execution_count": null,
      "outputs": []
    },
    {
      "cell_type": "code",
      "source": [
        "print(\"R2 :\",round(r2_score(y_train, y_knn_pred_train), 4))"
      ],
      "metadata": {
        "id": "z4XpprhzGEeK"
      },
      "execution_count": null,
      "outputs": []
    },
    {
      "cell_type": "code",
      "source": [
        "# Actual Price vs. Predicted Price for Elastic Net after Validation Plotting \n",
        "plt.figure(figsize=(8,4))\n",
        "plt.plot(10**(np.array(y_test)))\n",
        "plt.plot(10**(y_knn_pred))\n",
        "plt.suptitle('Actual Vs. Predicted Close Price: KNN', fontsize=16)\n",
        "plt.legend(['Actual','Predicted'], fontsize=12)\n",
        "plt.xlabel('No of Test Data', fontsize=12)\n",
        "plt.ylabel('Closing Price', fontsize=12)\n",
        "plt.grid()"
      ],
      "metadata": {
        "id": "cqiRX47GGjkM"
      },
      "execution_count": null,
      "outputs": []
    },
    {
      "cell_type": "markdown",
      "source": [
        "* ## **Evaluation Matrics Comparison:**"
      ],
      "metadata": {
        "id": "NUrOU_w7Gzcq"
      }
    },
    {
      "cell_type": "code",
      "source": [
        "def compare_model(X_train, X_test, y_train, y_test, models):\n",
        "  df_columns = []\n",
        "  #Creating dataframe to store the train and test metrics for each of the models\n",
        "  df=pd.DataFrame(columns=df_columns)\n",
        "\n",
        "  i = 0\n",
        "  #need to pass each model one by one\n",
        "  for model in models:\n",
        "    #fiting each model training dataset\n",
        "    model.fit(X_train, y_train)\n",
        "    #predicting y values for each model\n",
        "    y_pred = model.predict(X_test)\n",
        "    #getting accuracy score for each model\n",
        "    accuracy = model.score(X_test, y_test)\n",
        "\n",
        "    #getting all evaluation matrics for each model\n",
        "    MSE = round(mean_squared_error(y_test, y_pred), 4)\n",
        "    RMSE = round(math.sqrt(mean_squared_error(y_test, y_pred)),4)\n",
        "    MAE = round(mean_absolute_error(y_test, y_pred),4)\n",
        "    MAPE = round(mean_absolute_percentage_error(y_test, y_pred),4)\n",
        "    R2 = round(r2_score(y_test, y_pred), 4)\n",
        "\n",
        "\n",
        "    #getting all above into dataframe\n",
        "    df.loc[i,\"Model\"] = model.__class__.__name__\n",
        "    df.loc[i, \"MSE\"] = MSE\n",
        "    df.loc[i, \"RMSE\"] = RMSE\n",
        "    df.loc[i, \"MAE\"] = MAE\n",
        "    df.loc[i, \"MAPE\"] = MAPE\n",
        "    df.loc[i, \"R2\"] = R2\n",
        "  \n",
        "    \n",
        "    #to get values in next rows for next model\n",
        "    i=i+1\n",
        " #Sorting values by accuracy\n",
        "  df.sort_values(by=['R2'],ascending=False,inplace=True, ignore_index=True)\n",
        "    \n",
        "  return df\n",
        "\n"
      ],
      "metadata": {
        "id": "g7umtlcXG7Vk"
      },
      "execution_count": null,
      "outputs": []
    },
    {
      "cell_type": "code",
      "source": [
        "model = [linear_reg, lasso_reg, ridge_reg, elastic,knn_regressor]"
      ],
      "metadata": {
        "id": "-Ago1VmvHCid"
      },
      "execution_count": null,
      "outputs": []
    },
    {
      "cell_type": "code",
      "source": [
        "# now pass through function\n",
        "#Evaluation Matrics Comparison\n",
        "matrics_compare_df = compare_model(X_train, X_test, y_train, y_test, model)\n",
        "matrics_compare_df.sort_values(by=['R2'],ascending=True,inplace=True)\n",
        "matrics_compare_df"
      ],
      "metadata": {
        "id": "3XSTx60QHMxy"
      },
      "execution_count": null,
      "outputs": []
    },
    {
      "cell_type": "markdown",
      "source": [
        "# **Conclusion**"
      ],
      "metadata": {
        "id": "gCX9965dhzqZ"
      }
    },
    {
      "cell_type": "markdown",
      "source": [
        "* In EDA part we observed that\n",
        "\n",
        "1. There is increase in trend of Yes Bank's stock's Close,Open,High,Low price till 2018 an then sudden decrease.\n",
        "2. We observed that open vs close price graph concluded that after 2018 yes bank's stock hitted drastically.\n",
        "3. We saw Linear relation between the dependent and independent values.\n",
        "4. There was alot of multicollinearity present in data.\n",
        "\n",
        "* Target variable(dependent variable) strongly dependent on independent variables\n",
        "* We get maximum accuracy of 99%\n",
        "* Linear regression and Ridge regression get almost same R squared value\n",
        "* Whereas Lasso model shows lowest R squared value and high MSE,RMSE,MAE,MAPE\n",
        "* Ridge regression shrunk the parameters to reduce complexity and multicollinearity but ended up affecting the evaluation metrics.\n",
        "* Lasso regression did feature selection and ended up giving up worse results than ridge which again reflects the fact that each feature is important (as previously discussed).\n",
        "* KNN end up giving the highest R squared value. The predicted values are nearly equal to the actual values. We got 99% accuracy."
      ],
      "metadata": {
        "id": "Fjb1IsQkh3yE"
      }
    },
    {
      "cell_type": "markdown",
      "source": [
        "### ***Hurrah! You have successfully completed your Machine Learning Capstone Project !!!***"
      ],
      "metadata": {
        "id": "gIfDvo9L0UH2"
      }
    }
  ]
}